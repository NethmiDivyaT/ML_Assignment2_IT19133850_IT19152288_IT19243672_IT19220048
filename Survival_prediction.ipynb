{
 "cells": [
  {
   "cell_type": "code",
   "execution_count": 1,
   "metadata": {},
   "outputs": [
    {
     "ename": "ModuleNotFoundError",
     "evalue": "No module named 'numpy'",
     "output_type": "error",
     "traceback": [
      "\u001b[1;31m---------------------------------------------------------------------------\u001b[0m",
      "\u001b[1;31mModuleNotFoundError\u001b[0m                       Traceback (most recent call last)",
      "\u001b[1;32md:\\ML_Assignment\\ML_Assignment2_IT19133850_IT19152288_IT19243672_IT19220048\\Survival_prediction.ipynb Cell 1'\u001b[0m in \u001b[0;36m<cell line: 3>\u001b[1;34m()\u001b[0m\n\u001b[0;32m      <a href='vscode-notebook-cell:/d%3A/ML_Assignment/ML_Assignment2_IT19133850_IT19152288_IT19243672_IT19220048/Survival_prediction.ipynb#ch0000000?line=0'>1</a>\u001b[0m \u001b[39m# Import libraries\u001b[39;00m\n\u001b[0;32m      <a href='vscode-notebook-cell:/d%3A/ML_Assignment/ML_Assignment2_IT19133850_IT19152288_IT19243672_IT19220048/Survival_prediction.ipynb#ch0000000?line=1'>2</a>\u001b[0m \u001b[39m# Numpy library to statistically analyse data\u001b[39;00m\n\u001b[1;32m----> <a href='vscode-notebook-cell:/d%3A/ML_Assignment/ML_Assignment2_IT19133850_IT19152288_IT19243672_IT19220048/Survival_prediction.ipynb#ch0000000?line=2'>3</a>\u001b[0m \u001b[39mimport\u001b[39;00m \u001b[39mnumpy\u001b[39;00m \u001b[39mas\u001b[39;00m \u001b[39mnp\u001b[39;00m\n\u001b[0;32m      <a href='vscode-notebook-cell:/d%3A/ML_Assignment/ML_Assignment2_IT19133850_IT19152288_IT19243672_IT19220048/Survival_prediction.ipynb#ch0000000?line=3'>4</a>\u001b[0m \u001b[39m# Pandas library to make data frames\u001b[39;00m\n\u001b[0;32m      <a href='vscode-notebook-cell:/d%3A/ML_Assignment/ML_Assignment2_IT19133850_IT19152288_IT19243672_IT19220048/Survival_prediction.ipynb#ch0000000?line=4'>5</a>\u001b[0m \u001b[39mimport\u001b[39;00m \u001b[39mpandas\u001b[39;00m \u001b[39mas\u001b[39;00m \u001b[39mpd\u001b[39;00m\n",
      "\u001b[1;31mModuleNotFoundError\u001b[0m: No module named 'numpy'"
     ]
    }
   ],
   "source": [
    "# Import libraries\n",
    "# Numpy library to statistically analyse data\n",
    "import numpy as np\n",
    "# Pandas library to make data frames\n",
    "import pandas as pd\n",
    "# Matplotlib and seaborn library to visualize data as charts \n",
    "import matplotlib.pyplot as plt\n",
    "import seaborn as sns"
   ]
  }
 ],
 "metadata": {
  "interpreter": {
   "hash": "fb4e0b8d7c8aeac7736f696b57b97f345c314f6adb952309185c02ef89a31866"
  },
  "kernelspec": {
   "display_name": "Python 3.10.4 64-bit",
   "language": "python",
   "name": "python3"
  },
  "language_info": {
   "codemirror_mode": {
    "name": "ipython",
    "version": 3
   },
   "file_extension": ".py",
   "mimetype": "text/x-python",
   "name": "python",
   "nbconvert_exporter": "python",
   "pygments_lexer": "ipython3",
   "version": "3.10.4"
  },
  "orig_nbformat": 4
 },
 "nbformat": 4,
 "nbformat_minor": 2
}
