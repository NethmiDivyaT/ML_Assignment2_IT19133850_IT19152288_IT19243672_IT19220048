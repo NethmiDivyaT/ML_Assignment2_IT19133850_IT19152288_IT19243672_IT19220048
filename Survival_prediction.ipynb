{
 "cells": [
  {
   "cell_type": "code",
   "execution_count": 1,
   "metadata": {},
   "outputs": [],
   "source": [
    "# Import libraries\n",
    "# Numpy library to statistically analyse data\n",
    "import numpy as np\n",
    "# Pandas library to make data frames\n",
    "import pandas as pd\n",
    "# Matplotlib and seaborn library to visualize data as charts \n",
    "import matplotlib.pyplot as plt\n",
    "import seaborn as sns"
   ]
  },
  {
   "cell_type": "code",
   "execution_count": null,
   "metadata": {},
   "outputs": [],
   "source": [
    "# Visualize charts after the relavent line of code execution\n",
    "%matplotlib inline"
   ]
  },
  {
   "cell_type": "code",
   "execution_count": null,
   "metadata": {},
   "outputs": [],
   "source": [
    "# Dataset is taken from https://www.kaggle.com/datasets/sadiaanzum/patient-survival-prediction-dataset?select=Dataset.csv \n",
    "# assign data in the csv file to data frame\n",
    "patient_survival_data = pd.read_csv(\"survival_dataset.csv\")"
   ]
  },
  {
   "cell_type": "code",
   "execution_count": null,
   "metadata": {},
   "outputs": [],
   "source": [
    "# Visualize first 5 rows of the dataset\n",
    "patient_survival_data.head()"
   ]
  },
  {
   "cell_type": "code",
   "execution_count": null,
   "metadata": {},
   "outputs": [],
   "source": [
    "# Get detils about the dataset\n",
    "patient_survival_data.info()"
   ]
  },
  {
   "cell_type": "code",
   "execution_count": null,
   "metadata": {},
   "outputs": [],
   "source": [
    "# Check the availability of null values in the dataset\n",
    "patient_survival_data.isnull()"
   ]
  },
  {
   "cell_type": "code",
   "execution_count": null,
   "metadata": {},
   "outputs": [],
   "source": [
    "# Graphically view the availability of null values in the dataset\n",
    "sns.heatmap(patient_survival_data.isnull(), yticklabels=False, cbar=False, cmap=\"viridis\")"
   ]
  },
  {
   "cell_type": "code",
   "execution_count": null,
   "metadata": {},
   "outputs": [],
   "source": [
    "# Identify number of null values in the dataset (each column)\n",
    "patient_survival_data.isnull().sum()"
   ]
  }
 ],
 "metadata": {
  "interpreter": {
   "hash": "a2682e982b6726e8b1205c607789ab891c5057fcbbdcd059a6a9f221964c4c55"
  },
  "kernelspec": {
   "display_name": "Python 3.9.7 ('base')",
   "language": "python",
   "name": "python3"
  },
  "language_info": {
   "codemirror_mode": {
    "name": "ipython",
    "version": 3
   },
   "file_extension": ".py",
   "mimetype": "text/x-python",
   "name": "python",
   "nbconvert_exporter": "python",
   "pygments_lexer": "ipython3",
   "version": "3.9.7"
  },
  "orig_nbformat": 4
 },
 "nbformat": 4,
 "nbformat_minor": 2
}
